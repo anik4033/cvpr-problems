{
 "cells": [
  {
   "cell_type": "code",
   "execution_count": 1,
   "id": "ea2b8329",
   "metadata": {},
   "outputs": [],
   "source": [
    "import os \n",
    "import cv2\n",
    "import random\n",
    "import pickle\n",
    "from tqdm import tqdm\n",
    "from tensorflow.keras import utils\n",
    "import numpy as np\n",
    "import matplotlib.pyplot as plt\n",
    "import tensorflow as tf\n",
    "from tensorflow import keras\n",
    "from sklearn.model_selection import train_test_split\n",
    "from tensorflow.keras import layers\n",
    "from tensorflow.keras.optimizers import Adam\n",
    "\n",
    "\n",
    "\n",
    "\n",
    "%matplotlib inline"
   ]
  },
  {
   "cell_type": "code",
   "execution_count": 2,
   "id": "5547bcfe",
   "metadata": {},
   "outputs": [],
   "source": [
    "\n",
    "DATA_DIR = 'F:\\study\\sem 10\\cvpr\\VGG 16\\dataset'\n",
    "TRAIN_DATA_DIR = os.path.join(DATA_DIR, 'asl_alphabet_train/asl_alphabet_train')\n",
    "TEST_DATA_DIR = os.path.join(DATA_DIR, 'asl_alphabet_train/asl_alphabet_test')\n",
    "\n"
   ]
  },
  {
   "cell_type": "code",
   "execution_count": 3,
   "id": "f652d779",
   "metadata": {},
   "outputs": [
    {
     "name": "stdout",
     "output_type": "stream",
     "text": [
      "['A', 'B', 'C', 'D', 'del', 'E', 'F', 'G', 'H', 'I', 'J', 'K', 'L', 'M', 'N', 'nothing', 'O', 'P', 'Q', 'R', 'S', 'space', 'T', 'U', 'V', 'W', 'X', 'Y', 'Z']\n"
     ]
    }
   ],
   "source": [
    "img_size = 32\n",
    "CATEGORIES = []\n",
    "\n",
    "for i in os.listdir(TRAIN_DATA_DIR):\n",
    "    CATEGORIES.append(i)\n",
    "    \n",
    "print(CATEGORIES)"
   ]
  },
  {
   "cell_type": "code",
   "execution_count": null,
   "id": "ca8719c3",
   "metadata": {},
   "outputs": [],
   "source": []
  },
  {
   "cell_type": "code",
   "execution_count": 4,
   "id": "a5386ecf",
   "metadata": {},
   "outputs": [
    {
     "name": "stderr",
     "output_type": "stream",
     "text": [
      "100%|████████████████████████████████████████████████████████████████████████████| 3000/3000 [00:01<00:00, 1586.59it/s]\n",
      "100%|████████████████████████████████████████████████████████████████████████████| 3000/3000 [00:01<00:00, 1596.62it/s]\n",
      "100%|████████████████████████████████████████████████████████████████████████████| 3000/3000 [00:01<00:00, 1591.54it/s]\n",
      "100%|████████████████████████████████████████████████████████████████████████████| 3000/3000 [00:01<00:00, 1584.82it/s]\n",
      "100%|████████████████████████████████████████████████████████████████████████████| 3000/3000 [00:01<00:00, 1600.90it/s]\n",
      "100%|████████████████████████████████████████████████████████████████████████████| 3000/3000 [00:01<00:00, 1594.37it/s]\n",
      "100%|████████████████████████████████████████████████████████████████████████████| 3000/3000 [00:01<00:00, 1555.34it/s]\n",
      "100%|████████████████████████████████████████████████████████████████████████████| 3000/3000 [00:01<00:00, 1608.57it/s]\n",
      "100%|████████████████████████████████████████████████████████████████████████████| 3000/3000 [00:01<00:00, 1600.01it/s]\n",
      "100%|█████████████████████████████████████████████████████████████████████████████| 3000/3000 [00:06<00:00, 432.99it/s]\n",
      "100%|█████████████████████████████████████████████████████████████████████████████| 3000/3000 [00:16<00:00, 181.48it/s]\n",
      "100%|█████████████████████████████████████████████████████████████████████████████| 3000/3000 [00:16<00:00, 179.09it/s]\n",
      "100%|█████████████████████████████████████████████████████████████████████████████| 3000/3000 [00:17<00:00, 173.78it/s]\n",
      "100%|█████████████████████████████████████████████████████████████████████████████| 3000/3000 [00:16<00:00, 177.59it/s]\n",
      "100%|█████████████████████████████████████████████████████████████████████████████| 3000/3000 [00:17<00:00, 168.48it/s]\n",
      "100%|█████████████████████████████████████████████████████████████████████████████| 3000/3000 [00:16<00:00, 178.58it/s]\n",
      "100%|█████████████████████████████████████████████████████████████████████████████| 3000/3000 [00:16<00:00, 178.48it/s]\n",
      "100%|█████████████████████████████████████████████████████████████████████████████| 3000/3000 [00:16<00:00, 180.17it/s]\n",
      "100%|█████████████████████████████████████████████████████████████████████████████| 3000/3000 [00:16<00:00, 181.92it/s]\n",
      "100%|█████████████████████████████████████████████████████████████████████████████| 3000/3000 [00:17<00:00, 176.31it/s]\n",
      "100%|█████████████████████████████████████████████████████████████████████████████| 3000/3000 [00:17<00:00, 175.78it/s]\n",
      "100%|█████████████████████████████████████████████████████████████████████████████| 3000/3000 [00:17<00:00, 173.34it/s]\n",
      "100%|█████████████████████████████████████████████████████████████████████████████| 3000/3000 [00:17<00:00, 175.61it/s]\n",
      "100%|█████████████████████████████████████████████████████████████████████████████| 3000/3000 [00:16<00:00, 178.01it/s]\n",
      "100%|█████████████████████████████████████████████████████████████████████████████| 3000/3000 [00:16<00:00, 178.27it/s]\n",
      "100%|█████████████████████████████████████████████████████████████████████████████| 3000/3000 [00:16<00:00, 177.11it/s]\n",
      "100%|█████████████████████████████████████████████████████████████████████████████| 3000/3000 [00:06<00:00, 445.23it/s]\n",
      "100%|████████████████████████████████████████████████████████████████████████████| 3000/3000 [00:02<00:00, 1041.02it/s]\n",
      "100%|████████████████████████████████████████████████████████████████████████████| 3000/3000 [00:02<00:00, 1041.25it/s]\n"
     ]
    }
   ],
   "source": [
    "images = []\n",
    "labels = []\n",
    "\n",
    "\n",
    "for c in CATEGORIES:\n",
    "    path = os.path.join(TRAIN_DATA_DIR, c) # 'E:/DATASETS/classification/Face Mask Dataset/train/WithMask'\n",
    "    class_num = CATEGORIES.index(c) # 0\n",
    "    for img in tqdm(os.listdir(path)):\n",
    "        try:\n",
    "            img_array = cv2.imread(os.path.join(path, img))   # read the image\n",
    "            img_resized = cv2.resize(img_array,(img_size, img_size) )  # resize the image\n",
    "            images.append(img_resized) # [ [img, 0], [], [], [], ...., []]\n",
    "            labels.append(class_num)\n",
    "        except WException as e:\n",
    "            pass\n"
   ]
  },
  {
   "cell_type": "code",
   "execution_count": 5,
   "id": "83fae9f8",
   "metadata": {},
   "outputs": [
    {
     "name": "stdout",
     "output_type": "stream",
     "text": [
      "(78300, 29)\n"
     ]
    }
   ],
   "source": [
    "\n",
    "images = np.array(images)\n",
    "images = images.astype('float32')/255.0\n",
    "labels = utils.to_categorical(labels)\n",
    "X_train, X_test, Y_train, Y_test = train_test_split(images, labels, test_size = 0.1)\n",
    "print(Y_train.shape)"
   ]
  },
  {
   "cell_type": "code",
   "execution_count": 25,
   "id": "6df87277",
   "metadata": {},
   "outputs": [
    {
     "name": "stdout",
     "output_type": "stream",
     "text": [
      "Loaded 78300 images for training, Train data shape = (78300, 32, 32, 3)\n",
      "Loaded 78300 images for testing Test data shape = (78300, 29)\n"
     ]
    }
   ],
   "source": [
    "print('Loaded', len(X_train),'images for training,','Train data shape =', X_train.shape)\n",
    "print('Loaded', len(Y_train),'images for testing','Test data shape =', Y_train.shape)\n",
    "\n"
   ]
  },
  {
   "cell_type": "code",
   "execution_count": null,
   "id": "4fdad6a6",
   "metadata": {},
   "outputs": [],
   "source": []
  },
  {
   "cell_type": "code",
   "execution_count": null,
   "id": "6da0b0b8",
   "metadata": {},
   "outputs": [],
   "source": []
  },
  {
   "cell_type": "code",
   "execution_count": null,
   "id": "31848007",
   "metadata": {},
   "outputs": [],
   "source": [
    "\n"
   ]
  },
  {
   "cell_type": "code",
   "execution_count": 11,
   "id": "e4bd49c3",
   "metadata": {},
   "outputs": [
    {
     "name": "stdout",
     "output_type": "stream",
     "text": [
      "Number of GPU = 1\n"
     ]
    }
   ],
   "source": [
    "gpu_device = tf.config.experimental.list_physical_devices('GPU')\n",
    "print(f\"Number of GPU = {len(gpu_device)}\")\n",
    "tf.config.experimental.set_memory_growth(gpu_device[0], True)"
   ]
  },
  {
   "cell_type": "code",
   "execution_count": 26,
   "id": "5706b94b",
   "metadata": {},
   "outputs": [
    {
     "name": "stdout",
     "output_type": "stream",
     "text": [
      "78300 images for training, Train data shape = (78300, 32, 32, 3)\n",
      "78300 images for training, Train data shape = (78300, 29)\n",
      "8700 images for testing Test data shape = (8700, 32, 32, 3)\n"
     ]
    }
   ],
   "source": [
    "print( len(X_train),'images for training,','Train data shape =', X_train.shape)\n",
    "print( len(Y_train),'images for training,','Train data shape =', Y_train.shape)\n",
    "print(len(X_test),'images for testing','Test data shape =', X_test.shape)\n"
   ]
  },
  {
   "cell_type": "code",
   "execution_count": 19,
   "id": "47b7a5f1",
   "metadata": {},
   "outputs": [
    {
     "name": "stdout",
     "output_type": "stream",
     "text": [
      "Model: \"sequential_2\"\n",
      "_________________________________________________________________\n",
      "Layer (type)                 Output Shape              Param #   \n",
      "=================================================================\n",
      "conv2d_26 (Conv2D)           (None, 32, 32, 64)        1792      \n",
      "_________________________________________________________________\n",
      "conv2d_27 (Conv2D)           (None, 32, 32, 64)        36928     \n",
      "_________________________________________________________________\n",
      "max_pooling2d_10 (MaxPooling (None, 16, 16, 64)        0         \n",
      "_________________________________________________________________\n",
      "conv2d_28 (Conv2D)           (None, 16, 16, 128)       73856     \n",
      "_________________________________________________________________\n",
      "conv2d_29 (Conv2D)           (None, 16, 16, 128)       147584    \n",
      "_________________________________________________________________\n",
      "max_pooling2d_11 (MaxPooling (None, 8, 8, 128)         0         \n",
      "_________________________________________________________________\n",
      "conv2d_30 (Conv2D)           (None, 8, 8, 256)         295168    \n",
      "_________________________________________________________________\n",
      "conv2d_31 (Conv2D)           (None, 8, 8, 256)         590080    \n",
      "_________________________________________________________________\n",
      "conv2d_32 (Conv2D)           (None, 8, 8, 256)         590080    \n",
      "_________________________________________________________________\n",
      "max_pooling2d_12 (MaxPooling (None, 4, 4, 256)         0         \n",
      "_________________________________________________________________\n",
      "conv2d_33 (Conv2D)           (None, 4, 4, 512)         1180160   \n",
      "_________________________________________________________________\n",
      "conv2d_34 (Conv2D)           (None, 4, 4, 512)         2359808   \n",
      "_________________________________________________________________\n",
      "conv2d_35 (Conv2D)           (None, 4, 4, 512)         2359808   \n",
      "_________________________________________________________________\n",
      "max_pooling2d_13 (MaxPooling (None, 2, 2, 512)         0         \n",
      "_________________________________________________________________\n",
      "conv2d_36 (Conv2D)           (None, 2, 2, 512)         2359808   \n",
      "_________________________________________________________________\n",
      "conv2d_37 (Conv2D)           (None, 2, 2, 512)         2359808   \n",
      "_________________________________________________________________\n",
      "conv2d_38 (Conv2D)           (None, 2, 2, 512)         2359808   \n",
      "_________________________________________________________________\n",
      "max_pooling2d_14 (MaxPooling (None, 1, 1, 512)         0         \n",
      "_________________________________________________________________\n",
      "flatten_2 (Flatten)          (None, 512)               0         \n",
      "_________________________________________________________________\n",
      "dense_6 (Dense)              (None, 4096)              2101248   \n",
      "_________________________________________________________________\n",
      "dense_7 (Dense)              (None, 4096)              16781312  \n",
      "_________________________________________________________________\n",
      "dense_8 (Dense)              (None, 29)                118813    \n",
      "=================================================================\n",
      "Total params: 33,716,061\n",
      "Trainable params: 33,716,061\n",
      "Non-trainable params: 0\n",
      "_________________________________________________________________\n"
     ]
    }
   ],
   "source": [
    "model = keras.Sequential([\n",
    "    keras.Input(shape=(32,32,3)),\n",
    "    layers.Conv2D(filters=64, kernel_size=(3,3), padding=\"same\", activation=\"relu\"),\n",
    "    layers.Conv2D(filters=64, kernel_size=(3,3), padding=\"same\", activation=\"relu\"),\n",
    "    layers.MaxPooling2D(pool_size=(2,2), strides=(2,2)),\n",
    "    \n",
    "    layers.Conv2D(filters=128, kernel_size=(3,3), padding=\"same\", activation=\"relu\"),\n",
    "    layers.Conv2D(filters=128, kernel_size=(3,3), padding=\"same\", activation=\"relu\"),\n",
    "    layers.MaxPooling2D(pool_size=(2,2), strides=(2,2)),\n",
    "    \n",
    "    layers.Conv2D(filters=256, kernel_size=(3,3), padding=\"same\", activation=\"relu\"),\n",
    "    layers.Conv2D(filters=256, kernel_size=(3,3), padding=\"same\", activation=\"relu\"),\n",
    "    layers.Conv2D(filters=256, kernel_size=(3,3), padding=\"same\", activation=\"relu\"),\n",
    "    layers.MaxPooling2D(pool_size=(2,2), strides=(2,2)),\n",
    "    \n",
    "    layers.Conv2D(filters=512, kernel_size=(3,3), padding=\"same\", activation=\"relu\"),\n",
    "    layers.Conv2D(filters=512, kernel_size=(3,3), padding=\"same\", activation=\"relu\"),\n",
    "    layers.Conv2D(filters=512, kernel_size=(3,3), padding=\"same\", activation=\"relu\"),\n",
    "    layers.MaxPooling2D(pool_size=(2,2), strides=(2,2)),\n",
    "    \n",
    "    layers.Conv2D(filters=512, kernel_size=(3,3), padding=\"same\", activation=\"relu\"),\n",
    "    layers.Conv2D(filters=512, kernel_size=(3,3), padding=\"same\", activation=\"relu\"),\n",
    "    layers.Conv2D(filters=512, kernel_size=(3,3), padding=\"same\", activation=\"relu\"),\n",
    "    layers.MaxPooling2D(pool_size=(2,2), strides=(2,2)),\n",
    "    \n",
    "    layers.Flatten(),\n",
    "    layers.Dense(4096, activation='relu'),\n",
    "    layers.Dense(4096, activation='relu'),\n",
    "    layers.Dense(29, activation='softmax')\n",
    "])\n",
    "\n",
    "model.summary()"
   ]
  },
  {
   "cell_type": "code",
   "execution_count": 22,
   "id": "03fcd2e5",
   "metadata": {},
   "outputs": [],
   "source": [
    "learning_rate = 0.0001\n",
    "adam = Adam(lr=learning_rate)\n",
    "model.compile(\n",
    "    optimizer='adam',\n",
    "    loss = 'categorical_crossentropy',\n",
    "    metrics='accuracy'\n",
    ")"
   ]
  },
  {
   "cell_type": "code",
   "execution_count": 23,
   "id": "84c03349",
   "metadata": {},
   "outputs": [
    {
     "name": "stdout",
     "output_type": "stream",
     "text": [
      "Epoch 1/5\n",
      "551/551 [==============================] - 27s 45ms/step - loss: 3.3680 - accuracy: 0.0350 - val_loss: 3.3675 - val_accuracy: 0.0341\n",
      "Epoch 2/5\n",
      "551/551 [==============================] - 24s 43ms/step - loss: 3.3674 - accuracy: 0.0339 - val_loss: 3.3675 - val_accuracy: 0.0318\n",
      "Epoch 3/5\n",
      "551/551 [==============================] - 23s 42ms/step - loss: 3.3674 - accuracy: 0.0338 - val_loss: 3.3676 - val_accuracy: 0.0318\n",
      "Epoch 4/5\n",
      "551/551 [==============================] - 24s 43ms/step - loss: 3.3674 - accuracy: 0.0358 - val_loss: 3.3676 - val_accuracy: 0.0337\n",
      "Epoch 5/5\n",
      "551/551 [==============================] - 23s 42ms/step - loss: 3.3674 - accuracy: 0.0344 - val_loss: 3.3676 - val_accuracy: 0.0318\n"
     ]
    }
   ],
   "source": [
    "h=model.fit(X_train, Y_train, batch_size=128, epochs=5, validation_split=0.1)"
   ]
  },
  {
   "cell_type": "code",
   "execution_count": null,
   "id": "af6cf3cf",
   "metadata": {},
   "outputs": [],
   "source": []
  }
 ],
 "metadata": {
  "kernelspec": {
   "display_name": "cvpr tf2.4 py3.8",
   "language": "python",
   "name": "cvpr"
  },
  "language_info": {
   "codemirror_mode": {
    "name": "ipython",
    "version": 3
   },
   "file_extension": ".py",
   "mimetype": "text/x-python",
   "name": "python",
   "nbconvert_exporter": "python",
   "pygments_lexer": "ipython3",
   "version": "3.8.10"
  }
 },
 "nbformat": 4,
 "nbformat_minor": 5
}
